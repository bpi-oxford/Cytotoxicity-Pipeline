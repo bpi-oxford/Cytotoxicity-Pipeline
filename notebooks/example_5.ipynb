{
 "cells": [
  {
   "cell_type": "markdown",
   "metadata": {},
   "source": [
    "# Example 5: Cell Death Signal"
   ]
  },
  {
   "cell_type": "markdown",
   "metadata": {},
   "source": [
    "For the cell death analysis we are using PI stain to indicate the viability signal. For multi-cell interaction imaging, however, if both cell type dies we may hardly identify the signal is originated from which cell. To overcome the issue we suggest:\n",
    "\n",
    "1. Channel weighted merging (ref: [example_1.ipynb](./example_1.ipynb))\n",
    "2. Track cells with the segmentation mask from the merged image\n",
    "3. Perform cross cell channel pixel correlation (pixelwise co-localization).\n",
    "4. Identify death signal from the correlation map\n",
    "\n",
    "Following demonstrates workflow to generate the csv file output."
   ]
  },
  {
   "cell_type": "code",
   "execution_count": 1,
   "metadata": {},
   "outputs": [],
   "source": [
    "import dask_image.imread"
   ]
  },
  {
   "cell_type": "markdown",
   "metadata": {},
   "source": [
    "## Load Image Files"
   ]
  },
  {
   "cell_type": "code",
   "execution_count": null,
   "metadata": {},
   "outputs": [],
   "source": [
    "CANCER_IMAGE_PATH_PATTERN = \"/mnt/Data/UTSE/2023_10_17_Nyeso1HCT116_1G4CD8_icam_FR10s_0p1mlperh/register_denoise_gamma_channel_merged_cancer_ROI/*.tif\"\n",
    "TCELL_IMAGE_PATH_PATTERN = \"/mnt/Data/UTSE/2023_10_17_Nyeso1HCT116_1G4CD8_icam_FR10s_0p1mlperh/register_denoise_gamma_channel_merged_Tcell_ROI/*.tif\"\n",
    "\n",
    "CANCER_CORR_PATH_PATTERN = \"/mnt/Data/UTSE/2023_10_17_Nyeso1HCT116_1G4CD8_icam_FR10s_0p1mlperh/register_denoise_gamma_channel_merged_cancer_ROI/*.tif\"\n",
    "TCELL_CORR_PATH_PATTERN = \"/mnt/Data/UTSE/2023_10_17_Nyeso1HCT116_1G4CD8_icam_FR10s_0p1mlperh/register_denoise_gamma_channel_merged_Tcell_ROI/*.tif\"\n",
    "\n",
    "CANCER_LABEL_PATH_PATTERN = \"/mnt/Data/UTSE/2023_10_17_Nyeso1HCT116_1G4CD8_icam_FR10s_0p1mlperh/register_denoise_gamma_channel_merged_cancer_ROI_masks/*.tif\"\n",
    "TCELL_LABEL_PATH_PATTERN = \"/mnt/Data/UTSE/2023_10_17_Nyeso1HCT116_1G4CD8_icam_FR10s_0p1mlperh/register_denoise_gamma_channel_merged_Tcell_ROI_masks/*.tif\""
   ]
  }
 ],
 "metadata": {
  "kernelspec": {
   "display_name": "cyto",
   "language": "python",
   "name": "python3"
  },
  "language_info": {
   "codemirror_mode": {
    "name": "ipython",
    "version": 3
   },
   "file_extension": ".py",
   "mimetype": "text/x-python",
   "name": "python",
   "nbconvert_exporter": "python",
   "pygments_lexer": "ipython3",
   "version": "3.10.11"
  }
 },
 "nbformat": 4,
 "nbformat_minor": 2
}
